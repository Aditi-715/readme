{
  "nbformat": 4,
  "nbformat_minor": 0,
  "metadata": {
    "colab": {
      "name": "Untitled",
      "provenance": [],
      "authorship_tag": "ABX9TyPpsctgU7sWVCXAInMBS9Y6",
      "include_colab_link": true
    },
    "kernelspec": {
      "name": "python3",
      "display_name": "Python 3"
    }
  },
  "cells": [
    {
      "cell_type": "markdown",
      "metadata": {
        "id": "view-in-github",
        "colab_type": "text"
      },
      "source": [
        "<a href=\"https://colab.research.google.com/github/Aditi-715/readme/blob/main/Untitled.ipynb\" target=\"_parent\"><img src=\"https://colab.research.google.com/assets/colab-badge.svg\" alt=\"Open In Colab\"/></a>"
      ]
    },
    {
      "cell_type": "code",
      "metadata": {
        "colab": {
          "base_uri": "https://localhost:8080/"
        },
        "id": "Hti_7uc1EcEz",
        "outputId": "9264aaf7-6e99-42b6-c7b4-da09a048e52e"
      },
      "source": [
        "y=input()\n",
        "z= [\"a\", \"e\",\"i\", \"o\", \"u\"]\n",
        "for i in y:\n",
        "   if i in z:\n",
        "      print(\"vowels\"+str(1))\n",
        "   else:\n",
        "      print(\"consonant\"+str(1))"
      ],
      "execution_count": 10,
      "outputs": [
        {
          "output_type": "stream",
          "text": [
            "aditi\n",
            "vowels1\n",
            "consonant1\n",
            "vowels1\n",
            "consonant1\n",
            "vowels1\n"
          ],
          "name": "stdout"
        }
      ]
    }
  ]
}