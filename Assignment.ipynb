{
  "nbformat": 4,
  "nbformat_minor": 0,
  "metadata": {
    "colab": {
      "name": "Untitled",
      "provenance": [],
      "authorship_tag": "ABX9TyPyb6NeOp0WrPt8gTFkY0ih",
      "include_colab_link": true
    },
    "kernelspec": {
      "name": "python3",
      "display_name": "Python 3"
    }
  },
  "cells": [
    {
      "cell_type": "markdown",
      "metadata": {
        "id": "view-in-github",
        "colab_type": "text"
      },
      "source": [
        "<a href=\"https://colab.research.google.com/github/Aditi-715/readme/blob/main/Assignment.ipynb\" target=\"_parent\"><img src=\"https://colab.research.google.com/assets/colab-badge.svg\" alt=\"Open In Colab\"/></a>"
      ]
    },
    {
      "cell_type": "code",
      "metadata": {
        "colab": {
          "base_uri": "https://localhost:8080/"
        },
        "id": "Hti_7uc1EcEz",
        "outputId": "9264aaf7-6e99-42b6-c7b4-da09a048e52e"
      },
      "source": [
        "y=input()\n",
        "z= [\"a\", \"e\",\"i\", \"o\", \"u\"]\n",
        "for i in y:\n",
        "   if i in z:\n",
        "      print(\"vowels\"+str(1))\n",
        "   else:\n",
        "      print(\"consonant\"+str(1))"
      ],
      "execution_count": null,
      "outputs": [
        {
          "output_type": "stream",
          "text": [
            "aditi\n",
            "vowels1\n",
            "consonant1\n",
            "vowels1\n",
            "consonant1\n",
            "vowels1\n"
          ],
          "name": "stdout"
        }
      ]
    },
    {
      "cell_type": "code",
      "metadata": {
        "id": "kO3_mPb0Fjb2",
        "outputId": "5f2d7f2b-5739-4471-c817-ab44452570b0",
        "colab": {
          "base_uri": "https://localhost:8080/"
        }
      },
      "source": [
        " \n",
        "k=int(input(\"Message Sender : \\n Hello MIT CELL: \\n Please enter k value to shift transform message:\"))\n",
        "output=\"\"\n",
        "s=input('Now please type your message:')\n",
        "for x in s:\n",
        "  if x in \"!@#$%^&*()-+?_=,<>/\":\n",
        "    output+=x\n",
        "  elif x ==\" \":\n",
        "    output+=\"@\"\n",
        "  elif x ==\".\":\n",
        "    output+=\"#\"\n",
        "  else:\n",
        "    y=ord(x)+k\n",
        "    m=chr(y)\n",
        "    output+=m\n",
        "print(\"You send-\"+output)\n",
        "print(\"Message Receiver :\\n Hello Instructor: \\n You got a message:\"+output)\n",
        "k=int(input(\"to read this message enter the value of k provided by cell\"))\n",
        "output1=\"\"\n",
        "for x in output:\n",
        "  if x in \"!@#$%^&*()-+?_=,<>/\":\n",
        "    output1+=x\n",
        "  elif x ==\"@\":\n",
        "    output1+=\" \"\n",
        "  elif x ==\"#\":\n",
        "    output1+=\".\"\n",
        "  else:\n",
        "    y=ord(x)-k\n",
        "    m=chr(y)\n",
        "    output1+=m\n",
        "print(\"Original Message:\"+output1)"
      ],
      "execution_count": 1,
      "outputs": [
        {
          "output_type": "stream",
          "text": [
            "Message Sender : \n",
            " Hello MIT CELL: \n",
            " Please enter k value to shift transform message:10\n",
            "Now please type your message:Today is holiday\n",
            "You send-^ynk@s}@ryvsnk\n",
            "Message Receiver :\n",
            " Hello Instructor: \n",
            " You got a message:^ynk@s}@ryvsnk\n",
            "to read this message enter the value of k provided by cell10\n",
            "Original Message:^oday@is@holiday\n"
          ],
          "name": "stdout"
        }
      ]
    }
  ]
}